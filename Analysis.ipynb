{
 "cells": [
  {
   "cell_type": "code",
   "execution_count": null,
   "id": "0b05d964-c173-48a0-b751-5cbf906744f3",
   "metadata": {},
   "outputs": [],
   "source": [
    "import matplotlib.pyplot as plt\n",
    "from mpl_toolkits.mplot3d import Axes3D\n",
    "import statsmodels.api as sm\n",
    "import pandas as pd\n",
    "import yfinance as yf\n",
    "from pandas_datareader import data as pdr\n",
    "from fredapi import Fred\n",
    "from datetime import datetime\n",
    "import pandas_datareader.data as web"
   ]
  },
  {
   "cell_type": "markdown",
   "id": "34673e6f-cdda-4833-aebd-ca36e1fe6c80",
   "metadata": {},
   "source": [
    "## Stock price and interest rates"
   ]
  },
  {
   "cell_type": "code",
   "execution_count": null,
   "id": "0536d056-adff-4d0b-af16-3f58f3bcfe77",
   "metadata": {},
   "outputs": [],
   "source": [
    "# Fetch data\n",
    "firm = yf.Ticker(\"AAPL\")\n",
    "firm_data = firm.history(start=\"2010-01-01\", end=\"2024-12-31\")\n",
    "rates = pdr.DataReader(\"FEDFUNDS\", \"fred\", \"2010-01-01\", \"2024-12-31\")\n",
    "\n",
    "# Remove timezone info from both firm_data and rates\n",
    "firm_data.index = firm_data.index.tz_localize(None)\n",
    "rates.index = rates.index.tz_localize(None)\n",
    "\n",
    "# Resample firm data to monthly frequency, taking the last available price of the month\n",
    "df = firm_data['Close'].resample('M').last() \n",
    "\n",
    "# Fetch the FEDFUNDS rate and align it with the resampled firm data\n",
    "df_rates = rates['FEDFUNDS'].resample('M').last() \n",
    "\n",
    "# Combine both datasets into one dataframe\n",
    "df = pd.DataFrame({'Close': df, 'Rate': df_rates})\n",
    "\n",
    "# Forward fill missing values (if any) using the correct method\n",
    "df['Rate'] = df['Rate'].ffill()\n",
    "df['Close'] = df['Close'].ffill()\n",
    "\n",
    "fig, ax1 = plt.subplots(figsize=(12, 6))\n",
    "\n",
    "# Plot the stock price on the first y-axis\n",
    "ax1.plot(df.index, df['Close'], label='Stock Price (AAPL)', color='blue', linewidth=2)\n",
    "ax1.set_xlabel('Date')\n",
    "ax1.set_ylabel('Stock Price (USD$ per share)', color='blue')\n",
    "ax1.tick_params(axis='y', labelcolor='blue')\n",
    "\n",
    "# Create a second y-axis to plot the interest rate\n",
    "ax2 = ax1.twinx()\n",
    "ax2.plot(df.index, df['Rate'], label='Interest Rate (FEDFUNDS)', color='red', linestyle='--', linewidth=2)\n",
    "ax2.set_ylabel('Interest Rate (%)', color='red')\n",
    "ax2.tick_params(axis='y', labelcolor='red')\n",
    "\n",
    "plt.title('Line Plot: Stock Price and Interest Rates (Dual Axis)')\n",
    "\n",
    "plt.savefig(\"stocks.png\", dpi=300)\n",
    "\n",
    "plt.show()\n"
   ]
  },
  {
   "cell_type": "markdown",
   "id": "48d0df8c-8813-415c-b478-ee0502e378fc",
   "metadata": {},
   "source": [
    "## Revenue vs Interest rates"
   ]
  },
  {
   "cell_type": "code",
   "execution_count": null,
   "id": "735fd3e0-10b8-4057-a82b-915409e93c15",
   "metadata": {},
   "outputs": [],
   "source": [
    "msft = yf.Ticker(\"LOW\")\n",
    "revenue_df = msft.financials.loc[\"Total Revenue\"].T  # Transpose for time across rows\n",
    "# Get Fed Funds Rate from FRED\n",
    "start = datetime(2015, 1, 1)\n",
    "end = datetime(2025, 1, 1)\n",
    "rates = web.DataReader('FEDFUNDS', 'fred', start, end)"
   ]
  },
  {
   "cell_type": "code",
   "execution_count": null,
   "id": "88693780-6f69-49fa-b4ef-374fa496fab6",
   "metadata": {},
   "outputs": [],
   "source": [
    "revenue = revenue_df/ 1e9  # Convert to billions\n",
    "revenue.index = pd.to_datetime(revenue.index)\n",
    "\n",
    "rates_q = rates.resample('Q').mean()\n",
    "rates_q = rates_q.loc[revenue.index.min():revenue.index.max()] \n",
    "\n",
    "# Plot\n",
    "fig, ax1 = plt.subplots(figsize=(10, 6))\n",
    "\n",
    "# Revenue line\n",
    "ax1.plot(revenue.index, revenue.values, color='blue', marker='o', label='Revenue (Billion $)')\n",
    "ax1.set_ylabel('Revenue (Billion USD)', color='blue')\n",
    "ax1.tick_params(axis='y', labelcolor='blue')\n",
    "\n",
    "# Interest Rate on secondary y-axis\n",
    "ax2 = ax1.twinx()\n",
    "ax2.plot(rates_q.index, rates_q['FEDFUNDS'], color='red', linestyle='--', label='Fed Funds Rate')\n",
    "ax2.set_ylabel('Fed Funds Rate (%)', color='red')\n",
    "ax2.tick_params(axis='y', labelcolor='red')\n",
    "\n",
    "plt.title(\"Lowe's Revenue vs Federal Funds Rate (Interest Rate Policy)\")\n",
    "fig.tight_layout()\n",
    "plt.savefig(\"Lowe's.png\", dpi=300) \n",
    "plt.show()"
   ]
  },
  {
   "cell_type": "markdown",
   "id": "90620a81-4dd4-4e0f-975f-6c30ea9f78d4",
   "metadata": {},
   "source": [
    "## Unemployment and interest rates"
   ]
  },
  {
   "cell_type": "code",
   "execution_count": null,
   "id": "eb676225-d69b-47eb-b71c-42d95c2f0da2",
   "metadata": {},
   "outputs": [],
   "source": [
    "start = \"2000-01-01\"\n",
    "end = \"2015-12-31\"\n",
    "\n",
    "# Get Federal Funds Rate and Unemployment Rate\n",
    "rate = web.DataReader(\"FEDFUNDS\", \"fred\", start, end)\n",
    "unemployment = web.DataReader(\"UNRATE\", \"fred\", start, end)\n",
    "\n",
    "# Merge datasets\n",
    "df = pd.merge(rate, unemployment, left_index=True, right_index=True)\n",
    "df.columns = [\"Rate\", \"Unemployment\"]\n",
    "df.dropna(inplace=True)\n",
    "\n",
    "# Regression analysis\n",
    "X = sm.add_constant(df[\"Rate\"])\n",
    "y = df[\"Unemployment\"]\n",
    "model = sm.OLS(y, X)\n",
    "results = model.fit()\n",
    "\n",
    "# Plot\n",
    "plt.figure(figsize=(10, 6))\n",
    "plt.scatter(df[\"Rate\"], df[\"Unemployment\"], alpha=0.5, label=\"Data Points\")\n",
    "plt.plot(df[\"Rate\"], results.predict(X), color=\"red\", label=\"Regression Line\")\n",
    "plt.xlabel(\"Federal Funds Rate (%)\")\n",
    "plt.ylabel(\"Unemployment Rate (%)\")\n",
    "plt.title(\"Impact of Federal Interest Rates on Unemployment\")\n",
    "plt.legend()\n",
    "plt.grid(True)\n",
    "plt.tight_layout()\n",
    "plt.savefig(\"unemployment.png\", dpi=300)\n",
    "plt.show()\n",
    "\n",
    "print(results.summary())"
   ]
  },
  {
   "cell_type": "markdown",
   "id": "dae302d4-961d-4f2e-ad63-dcd3fdd7e84b",
   "metadata": {},
   "source": [
    "## Operating Expense and Interest rates "
   ]
  },
  {
   "cell_type": "code",
   "execution_count": null,
   "id": "48a1edaa-3606-4bd9-aeef-e7c6b9f6b9cf",
   "metadata": {},
   "outputs": [],
   "source": [
    "# --- 1. Fetch R&D Spending for Apple ---\n",
    "ticker = yf.Ticker(\"AAPL\") \n",
    "# Quarterly financials\n",
    "financials = ticker.quarterly_financials.T\n",
    "\n",
    "# Extract R&D and date\n",
    "rd = financials['Operating Expense'].copy() \n",
    "rd = rd.sort_index()\n",
    "rd.index = pd.to_datetime(rd.index)\n",
    "rd = rd.resample(\"Q\").last() \n",
    "\n",
    "# --- 2. Fetch Fed Funds Rate (Interest Rate) ---\n",
    "rates = pdr.DataReader(\"FEDFUNDS\", \"fred\", rd.index.min(), rd.index.max())\n",
    "rates = rates.resample(\"Q\").last()  # Resample to quarterly data\n",
    "\n",
    "# --- 3. Merge DataFrames ---\n",
    "df = pd.merge(rd, rates, left_index=True, right_index=True)\n",
    "df.columns = ['Operating Expense', 'Interest Rate']  \n",
    "\n",
    "# Drop any missing values\n",
    "df.dropna(inplace=True)\n",
    "\n",
    "df = df.astype(float)\n",
    "\n",
    "# --- 4. Plotting the data (Bar for R&D, Line for Interest Rate) ---\n",
    "fig, ax1 = plt.subplots(figsize=(10, 6))\n",
    "\n",
    "ax1.bar(df.index, df['Operating Expense'], width=20, label='Operating Expense', color='skyblue')\n",
    "ax1.set_xlabel('Date')\n",
    "ax1.set_ylabel('Operating Expense (USD)', color='skyblue')\n",
    "ax1.tick_params(axis='y', labelcolor='skyblue')\n",
    "# Set y-axis limit for Operating Expense (R&D)\n",
    "ax1.set_ylim(10000000000, 16000000000) \n",
    "\n",
    "# Interest Rate as a line plot on a secondary y-axis\n",
    "ax2 = ax1.twinx()\n",
    "ax2.plot(df.index, df['Interest Rate'], label='Interest Rate (%)', color='green', linewidth=2)\n",
    "ax2.set_ylabel('Interest Rate (%)', color='green')\n",
    "ax2.tick_params(axis='y', labelcolor='green')\n",
    "\n",
    "plt.title(f'{ticker.info[\"longName\"]} - Operating Expense vs Interest Rate')\n",
    "fig.tight_layout()\n",
    "plt.savefig(\"Operating_R&D.png\", dpi=300)\n",
    "plt.show()"
   ]
  }
 ],
 "metadata": {
  "kernelspec": {
   "display_name": "Python 3 (ipykernel)",
   "language": "python",
   "name": "python3"
  },
  "language_info": {
   "codemirror_mode": {
    "name": "ipython",
    "version": 3
   },
   "file_extension": ".py",
   "mimetype": "text/x-python",
   "name": "python",
   "nbconvert_exporter": "python",
   "pygments_lexer": "ipython3",
   "version": "3.11.7"
  }
 },
 "nbformat": 4,
 "nbformat_minor": 5
}
